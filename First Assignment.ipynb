{
 "cells": [
  {
   "cell_type": "markdown",
   "id": "71e85ba8-9dde-474d-89b1-0c77360029be",
   "metadata": {},
   "source": [
    "# SkilHarvest Data Science Track"
   ]
  },
  {
   "cell_type": "markdown",
   "id": "3f39e5f1-6b80-494a-818b-4b3eecbf7d97",
   "metadata": {},
   "source": [
    "## First Assignment By Umar Muhammed Abubakar\n",
    "### Email: U.m.abubakar16@gmail.com"
   ]
  },
  {
   "cell_type": "markdown",
   "id": "66255b1d-7899-41da-93ea-8013949632a6",
   "metadata": {},
   "source": [
    "### Question: write 10 different examples of each of the Python operators"
   ]
  },
  {
   "cell_type": "markdown",
   "id": "8ec535b5-6ade-4c77-9c5f-e27f589f4686",
   "metadata": {},
   "source": [
    "### 1. Assignment"
   ]
  },
  {
   "cell_type": "code",
   "execution_count": 1,
   "id": "95ed4644-050c-4dc2-9545-070d3e45596e",
   "metadata": {},
   "outputs": [
    {
     "name": "stdout",
     "output_type": "stream",
     "text": [
      "x = 10\n",
      "y = 5\n",
      "z = 15\n",
      "a = 8\n",
      "b = 5.0\n",
      "result = 12\n",
      "value = 20\n",
      "text = Hello, World!\n",
      "count = 1\n",
      "total = 15\n"
     ]
    }
   ],
   "source": [
    "x = 10\n",
    "print(\"x =\", x)\n",
    "\n",
    "\n",
    "y = 5\n",
    "print(\"y =\", y)\n",
    "\n",
    "\n",
    "z = x + y\n",
    "print(\"z =\", z)\n",
    "\n",
    "\n",
    "a = 2 ** 3\n",
    "print(\"a =\", a)\n",
    "\n",
    "\n",
    "b = 15 / 3\n",
    "print(\"b =\", b)\n",
    "\n",
    "\n",
    "result = 5 + 7\n",
    "print(\"result =\", result)\n",
    "\n",
    "\n",
    "value = 10 * 2\n",
    "print(\"value =\", value)\n",
    "\n",
    "\n",
    "text = \"Hello, \" + \"World!\"\n",
    "print(\"text =\", text)\n",
    "\n",
    "\n",
    "count = 0\n",
    "count += 1\n",
    "print(\"count =\", count)\n",
    "\n",
    "\n",
    "total = 20\n",
    "total -= 5\n",
    "print(\"total =\", total)\n"
   ]
  },
  {
   "cell_type": "markdown",
   "id": "9e3a0f48-fd51-41b1-94b4-8443f12bb7f8",
   "metadata": {},
   "source": [
    "### 2. Modulus (%)"
   ]
  },
  {
   "cell_type": "code",
   "execution_count": 2,
   "id": "c046f913-ebbb-4f52-beeb-04bde39b9d22",
   "metadata": {},
   "outputs": [
    {
     "name": "stdout",
     "output_type": "stream",
     "text": [
      "15 % 7 = 1\n",
      "23 % 4 = 3\n",
      "10 % 3 = 1\n",
      "18 % 5 = 3\n",
      "30 % 8 = 6\n",
      "42 % 9 = 6\n",
      "16 % 6 = 4\n",
      "25 % 2 = 1\n",
      "11 % 4 = 3\n",
      "36 % 10 = 6\n"
     ]
    }
   ],
   "source": [
    "print(\"15 % 7 =\", 15 % 7)\n",
    "print(\"23 % 4 =\", 23 % 4)\n",
    "print(\"10 % 3 =\", 10 % 3)\n",
    "print(\"18 % 5 =\", 18 % 5)\n",
    "print(\"30 % 8 =\", 30 % 8)\n",
    "print(\"42 % 9 =\", 42 % 9)\n",
    "print(\"16 % 6 =\", 16 % 6)\n",
    "print(\"25 % 2 =\", 25 % 2)\n",
    "print(\"11 % 4 =\", 11 % 4)\n",
    "print(\"36 % 10 =\", 36 % 10)\n"
   ]
  },
  {
   "cell_type": "markdown",
   "id": "a3465400-a8dd-42a7-be7c-d409695ceaba",
   "metadata": {},
   "source": [
    "### 3. Addition (+)"
   ]
  },
  {
   "cell_type": "code",
   "execution_count": 3,
   "id": "da15e787-b8bb-4158-b201-9798b766f8b9",
   "metadata": {},
   "outputs": [
    {
     "name": "stdout",
     "output_type": "stream",
     "text": [
      "5 + 3 = 8\n",
      "12 + 7 = 19\n",
      "20 + 18 = 38\n",
      "15 + 25 = 40\n",
      "8 + 13 = 21\n",
      "42 + 11 = 53\n",
      "30 + 45 = 75\n",
      "16 + 4 = 20\n",
      "22 + 36 = 58\n",
      "10 + 50 = 60\n"
     ]
    }
   ],
   "source": [
    "print(\"5 + 3 =\", 5 + 3)\n",
    "print(\"12 + 7 =\", 12 + 7)\n",
    "print(\"20 + 18 =\", 20 + 18)\n",
    "print(\"15 + 25 =\", 15 + 25)\n",
    "print(\"8 + 13 =\", 8 + 13)\n",
    "print(\"42 + 11 =\", 42 + 11)\n",
    "print(\"30 + 45 =\", 30 + 45)\n",
    "print(\"16 + 4 =\", 16 + 4)\n",
    "print(\"22 + 36 =\", 22 + 36)\n",
    "print(\"10 + 50 =\", 10 + 50)\n"
   ]
  },
  {
   "cell_type": "markdown",
   "id": "2999f1d3-54b4-473d-8b97-1ea10a6dbee4",
   "metadata": {},
   "source": [
    "### 4. Division (/)"
   ]
  },
  {
   "cell_type": "code",
   "execution_count": 4,
   "id": "4fbfb8b3-796b-47b7-8b15-4fb045fcd700",
   "metadata": {},
   "outputs": [
    {
     "name": "stdout",
     "output_type": "stream",
     "text": [
      "15 / 3 = 5.0\n",
      "28 / 4 = 7.0\n",
      "10 / 2 = 5.0\n",
      "18 / 6 = 3.0\n",
      "30 / 5 = 6.0\n",
      "42 / 7 = 6.0\n",
      "16 / 8 = 2.0\n",
      "25 / 5 = 5.0\n",
      "11 / 3 = 3.6666666666666665\n",
      "36 / 9 = 4.0\n"
     ]
    }
   ],
   "source": [
    "print(\"15 / 3 =\", 15 / 3)\n",
    "print(\"28 / 4 =\", 28 / 4)\n",
    "print(\"10 / 2 =\", 10 / 2)\n",
    "print(\"18 / 6 =\", 18 / 6)\n",
    "print(\"30 / 5 =\", 30 / 5)\n",
    "print(\"42 / 7 =\", 42 / 7)\n",
    "print(\"16 / 8 =\", 16 / 8)\n",
    "print(\"25 / 5 =\", 25 / 5)\n",
    "print(\"11 / 3 =\", 11 / 3)\n",
    "print(\"36 / 9 =\", 36 / 9)\n"
   ]
  },
  {
   "cell_type": "markdown",
   "id": "49cf1b16-fdcf-4f8b-94bb-56d36fbbb6b0",
   "metadata": {},
   "source": [
    "### 5. Subtraction (-)"
   ]
  },
  {
   "cell_type": "code",
   "execution_count": 5,
   "id": "1517e071-fb0c-4bf6-b4e0-1e72201be4f3",
   "metadata": {},
   "outputs": [
    {
     "name": "stdout",
     "output_type": "stream",
     "text": [
      "10 - 3 = 7\n",
      "24 - 8 = 16\n",
      "15 - 5 = 10\n",
      "18 - 10 = 8\n",
      "30 - 12 = 18\n",
      "42 - 20 = 22\n",
      "16 - 6 = 10\n",
      "25 - 9 = 16\n",
      "11 - 4 = 7\n",
      "36 - 18 = 18\n"
     ]
    }
   ],
   "source": [
    "print(\"10 - 3 =\", 10 - 3)\n",
    "print(\"24 - 8 =\", 24 - 8)\n",
    "print(\"15 - 5 =\", 15 - 5)\n",
    "print(\"18 - 10 =\", 18 - 10)\n",
    "print(\"30 - 12 =\", 30 - 12)\n",
    "print(\"42 - 20 =\", 42 - 20)\n",
    "print(\"16 - 6 =\", 16 - 6)\n",
    "print(\"25 - 9 =\", 25 - 9)\n",
    "print(\"11 - 4 =\", 11 - 4)\n",
    "print(\"36 - 18 =\", 36 - 18)\n"
   ]
  },
  {
   "cell_type": "code",
   "execution_count": null,
   "id": "fc64d185-e0fc-4334-bd9f-f351faaf594e",
   "metadata": {},
   "outputs": [],
   "source": [
    "### 6. Multiplication (*)"
   ]
  },
  {
   "cell_type": "markdown",
   "id": "a37f3b42-eee8-473e-92ce-d5134c4d3936",
   "metadata": {},
   "source": [
    "### 6. Power of (**)"
   ]
  },
  {
   "cell_type": "code",
   "execution_count": 6,
   "id": "58a5aa5d-abcc-495c-88a5-02aef65bbec2",
   "metadata": {},
   "outputs": [
    {
     "name": "stdout",
     "output_type": "stream",
     "text": [
      "2 ** 3 = 8\n",
      "5 ** 2 = 25\n",
      "4 ** 3 = 64\n",
      "3 ** 4 = 81\n",
      "2 ** 5 = 32\n",
      "10 ** 2 = 100\n",
      "6 ** 3 = 216\n",
      "2 ** 4 = 16\n",
      "7 ** 2 = 49\n",
      "8 ** 3 = 512\n"
     ]
    }
   ],
   "source": [
    "print(\"2 ** 3 =\", 2 ** 3)\n",
    "print(\"5 ** 2 =\", 5 ** 2)\n",
    "print(\"4 ** 3 =\", 4 ** 3)\n",
    "print(\"3 ** 4 =\", 3 ** 4)\n",
    "print(\"2 ** 5 =\", 2 ** 5)\n",
    "print(\"10 ** 2 =\", 10 ** 2)\n",
    "print(\"6 ** 3 =\", 6 ** 3)\n",
    "print(\"2 ** 4 =\", 2 ** 4)\n",
    "print(\"7 ** 2 =\", 7 ** 2)\n",
    "print(\"8 ** 3 =\", 8 ** 3)\n"
   ]
  },
  {
   "cell_type": "markdown",
   "id": "ca39ce2e-4feb-4148-9f84-db14cb065636",
   "metadata": {},
   "source": [
    "### 7. Floor (//)"
   ]
  },
  {
   "cell_type": "code",
   "execution_count": 7,
   "id": "a2f6387c-ddc1-40d3-a0e9-443fa0e72dd7",
   "metadata": {},
   "outputs": [
    {
     "name": "stdout",
     "output_type": "stream",
     "text": [
      "15 // 7 = 2\n",
      "23 // 4 = 5\n",
      "10 // 3 = 3\n",
      "18 // 5 = 3\n",
      "30 // 8 = 3\n",
      "42 // 9 = 4\n",
      "16 // 6 = 2\n",
      "25 // 2 = 12\n",
      "11 // 4 = 2\n",
      "36 // 10 = 3\n"
     ]
    }
   ],
   "source": [
    "print(\"15 // 7 =\", 15 // 7)\n",
    "print(\"23 // 4 =\", 23 // 4)\n",
    "print(\"10 // 3 =\", 10 // 3)\n",
    "print(\"18 // 5 =\", 18 // 5)\n",
    "print(\"30 // 8 =\", 30 // 8)\n",
    "print(\"42 // 9 =\", 42 // 9)\n",
    "print(\"16 // 6 =\", 16 // 6)\n",
    "print(\"25 // 2 =\", 25 // 2)\n",
    "print(\"11 // 4 =\", 11 // 4)\n",
    "print(\"36 // 10 =\", 36 // 10)\n"
   ]
  },
  {
   "cell_type": "markdown",
   "id": "18afc81e-34b7-41c0-be52-d6d3d9f489cc",
   "metadata": {},
   "source": [
    "### 8. Logical Operators"
   ]
  },
  {
   "cell_type": "code",
   "execution_count": 8,
   "id": "334fc75d-6d7f-4942-b3c4-de8edf1b1211",
   "metadata": {},
   "outputs": [
    {
     "name": "stdout",
     "output_type": "stream",
     "text": [
      "True and False = False\n",
      "True or False = True\n",
      "not True = False\n",
      "True and True = True\n",
      "False or True = True\n",
      "not False = True\n"
     ]
    }
   ],
   "source": [
    "print(\"True and False =\", True and False)\n",
    "print(\"True or False =\", True or False)\n",
    "print(\"not True =\", not True)\n",
    "print(\"True and True =\", True and True)\n",
    "print(\"False or True =\", False or True)\n",
    "print(\"not False =\", not False)\n"
   ]
  },
  {
   "cell_type": "markdown",
   "id": "a277a498-661c-44bd-8d63-5dfb5e411eec",
   "metadata": {},
   "source": [
    "### 9. OR"
   ]
  },
  {
   "cell_type": "code",
   "execution_count": 9,
   "id": "5d5fee62-3452-4d46-91be-511932d8beff",
   "metadata": {},
   "outputs": [
    {
     "name": "stdout",
     "output_type": "stream",
     "text": [
      "(5 > 3) or (8 < 4) = True\n",
      "(10 == 10) or (15 != 15) = True\n",
      "(20 >= 18) or (25 <= 22) = True\n",
      "(True or False) or (False or True) = True\n",
      "(5 > 3) or (not (8 < 4)) = True\n",
      "(10 == 10) or (not (15 != 15)) = True\n",
      "(20 >= 18) or (not (25 <= 22)) = True\n",
      "(False or False) or (not (False and True)) = True\n",
      "(not True) or (not False) = True\n",
      "(False or True) or (True or True) = True\n"
     ]
    }
   ],
   "source": [
    "print(\"(5 > 3) or (8 < 4) =\", (5 > 3) or (8 < 4))\n",
    "print(\"(10 == 10) or (15 != 15) =\", (10 == 10) or (15 != 15))\n",
    "print(\"(20 >= 18) or (25 <= 22) =\", (20 >= 18) or (25 <= 22))\n",
    "print(\"(True or False) or (False or True) =\", (True or False) or (False or True))\n",
    "print(\"(5 > 3) or (not (8 < 4)) =\", (5 > 3) or (not (8 < 4)))\n",
    "print(\"(10 == 10) or (not (15 != 15)) =\", (10 == 10) or (not (15 != 15)))\n",
    "print(\"(20 >= 18) or (not (25 <= 22)) =\", (20 >= 18) or (not (25 <= 22)))\n",
    "print(\"(False or False) or (not (False and True)) =\", (False or False) or (not (False and True)))\n",
    "print(\"(not True) or (not False) =\", (not True) or (not False))\n",
    "print(\"(False or True) or (True or True) =\", (False or True) or (True or True))\n"
   ]
  },
  {
   "cell_type": "markdown",
   "id": "4f20fcc2-4f40-4b80-addc-09f79cf6e93d",
   "metadata": {},
   "source": [
    "### 10. AND"
   ]
  },
  {
   "cell_type": "code",
   "execution_count": 10,
   "id": "b180663f-43de-4168-b544-abfd40cdfba9",
   "metadata": {},
   "outputs": [
    {
     "name": "stdout",
     "output_type": "stream",
     "text": [
      "(5 > 3) and (8 < 4) = False\n",
      "(10 == 10) and (15 != 15) = False\n",
      "(20 >= 18) and (25 <= 22) = False\n",
      "(True and False) and (False and True) = False\n",
      "(5 > 3) and (not (8 < 4)) = True\n",
      "(10 == 10) and (not (15 != 15)) = True\n",
      "(20 >= 18) and (not (25 <= 22)) = True\n",
      "(True and True) and (not (False or True)) = False\n",
      "(not True) and (not False) = False\n",
      "(False and True) and (True and True) = False\n"
     ]
    }
   ],
   "source": [
    "print(\"(5 > 3) and (8 < 4) =\", (5 > 3) and (8 < 4))\n",
    "print(\"(10 == 10) and (15 != 15) =\", (10 == 10) and (15 != 15))\n",
    "print(\"(20 >= 18) and (25 <= 22) =\", (20 >= 18) and (25 <= 22))\n",
    "print(\"(True and False) and (False and True) =\", (True and False) and (False and True))\n",
    "print(\"(5 > 3) and (not (8 < 4)) =\", (5 > 3) and (not (8 < 4)))\n",
    "print(\"(10 == 10) and (not (15 != 15)) =\", (10 == 10) and (not (15 != 15)))\n",
    "print(\"(20 >= 18) and (not (25 <= 22)) =\", (20 >= 18) and (not (25 <= 22)))\n",
    "print(\"(True and True) and (not (False or True)) =\", (True and True) and (not (False or True)))\n",
    "print(\"(not True) and (not False) =\", (not True) and (not False))\n",
    "print(\"(False and True) and (True and True) =\", (False and True) and (True and True))\n"
   ]
  },
  {
   "cell_type": "markdown",
   "id": "1c4191e6-f56d-40d0-b6fa-ee292cbcd6cc",
   "metadata": {},
   "source": [
    "### 11. NOT"
   ]
  },
  {
   "cell_type": "code",
   "execution_count": 11,
   "id": "7f4d67e0-0e42-49f1-b3b7-e9f08118f444",
   "metadata": {},
   "outputs": [
    {
     "name": "stdout",
     "output_type": "stream",
     "text": [
      "not (5 > 3) = False\n",
      "not (10 == 10) = False\n",
      "not (20 >= 18) = False\n",
      "not (True and False) = True\n",
      "not (5 > 3) and (8 < 4) = False\n",
      "not (10 == 10) and (15 != 15) = False\n",
      "not (20 >= 18) and (25 <= 22) = False\n",
      "not (True or False) and (False or True) = False\n",
      "not (5 > 3) or (not (8 < 4)) = True\n",
      "not (10 == 10) or (not (15 != 15)) = True\n"
     ]
    }
   ],
   "source": [
    "print(\"not (5 > 3) =\", not (5 > 3))\n",
    "print(\"not (10 == 10) =\", not (10 == 10))\n",
    "print(\"not (20 >= 18) =\", not (20 >= 18))\n",
    "print(\"not (True and False) =\", not (True and False))\n",
    "print(\"not (5 > 3) and (8 < 4) =\", not (5 > 3) and (8 < 4))\n",
    "print(\"not (10 == 10) and (15 != 15) =\", not (10 == 10) and (15 != 15))\n",
    "print(\"not (20 >= 18) and (25 <= 22) =\", not (20 >= 18) and (25 <= 22))\n",
    "print(\"not (True or False) and (False or True) =\", not (True or False) and (False or True))\n",
    "print(\"not (5 > 3) or (not (8 < 4)) =\", not (5 > 3) or (not (8 < 4)))\n",
    "print(\"not (10 == 10) or (not (15 != 15)) =\", not (10 == 10) or (not (15 != 15)))\n"
   ]
  },
  {
   "cell_type": "markdown",
   "id": "7269cf99-7a3c-402f-9bc3-fa0155fe86a9",
   "metadata": {},
   "source": [
    "### 12. in"
   ]
  },
  {
   "cell_type": "code",
   "execution_count": 12,
   "id": "70110d34-d2b9-47af-ba5e-36608f3b070e",
   "metadata": {},
   "outputs": [
    {
     "name": "stdout",
     "output_type": "stream",
     "text": [
      "5 in [1, 2, 3, 4, 5] = True\n",
      "'cat' in 'category' = True\n",
      "10 in [1, 2, 3, 4, 5] = False\n",
      "15 in [1, 2, 3, 4, 5] = False\n",
      "'orange' in ['apple', 'banana', 'orange'] = True\n",
      "'dog' in 'category' = False\n",
      "'elephant' in ['lion', 'tiger', 'zebra'] = False\n",
      "7 in [2, 4, 6, 8, 10] = False\n",
      "'apple' in ['orange', 'banana', 'mango'] = False\n",
      "'car' in 'race' = False\n"
     ]
    }
   ],
   "source": [
    "print(\"5 in [1, 2, 3, 4, 5] =\", 5 in [1, 2, 3, 4, 5])\n",
    "print(\"'cat' in 'category' =\", 'cat' in 'category')\n",
    "print(\"10 in [1, 2, 3, 4, 5] =\", 10 in [1, 2, 3, 4, 5])\n",
    "print(\"15 in [1, 2, 3, 4, 5] =\", 15 in [1, 2, 3, 4, 5])\n",
    "print(\"'orange' in ['apple', 'banana', 'orange'] =\", 'orange' in ['apple', 'banana', 'orange'])\n",
    "print(\"'dog' in 'category' =\", 'dog' in 'category')\n",
    "print(\"'elephant' in ['lion', 'tiger', 'zebra'] =\", 'elephant' in ['lion', 'tiger', 'zebra'])\n",
    "print(\"7 in [2, 4, 6, 8, 10] =\", 7 in [2, 4, 6, 8, 10])\n",
    "print(\"'apple' in ['orange', 'banana', 'mango'] =\", 'apple' in ['orange', 'banana', 'mango'])\n",
    "print(\"'car' in 'race' =\", 'car' in 'race')\n"
   ]
  },
  {
   "cell_type": "markdown",
   "id": "8a2ad63f-396e-4920-a6e1-ca57bb49070b",
   "metadata": {},
   "source": [
    "### 13. Greater than"
   ]
  },
  {
   "cell_type": "code",
   "execution_count": 13,
   "id": "c43ec104-a34e-4abc-9bbd-ef576c281cc5",
   "metadata": {},
   "outputs": [
    {
     "name": "stdout",
     "output_type": "stream",
     "text": [
      "8 > 5 = True\n",
      "15 > 20 = False\n",
      "10 > 5 = True\n",
      "25 > 25 = False\n",
      "50 > 40 = True\n",
      "18 > 12 = True\n",
      "7 > 10 = False\n",
      "30 > 30 = False\n",
      "40 > 35 = True\n",
      "20 > 22 = False\n"
     ]
    }
   ],
   "source": [
    "print(\"8 > 5 =\", 8 > 5)\n",
    "print(\"15 > 20 =\", 15 > 20)\n",
    "print(\"10 > 5 =\", 10 > 5)\n",
    "print(\"25 > 25 =\", 25 > 25)\n",
    "print(\"50 > 40 =\", 50 > 40)\n",
    "print(\"18 > 12 =\", 18 > 12)\n",
    "print(\"7 > 10 =\", 7 > 10)\n",
    "print(\"30 > 30 =\", 30 > 30)\n",
    "print(\"40 > 35 =\", 40 > 35)\n",
    "print(\"20 > 22 =\", 20 > 22)\n"
   ]
  },
  {
   "cell_type": "markdown",
   "id": "b6597cb1-19e8-4862-8b0e-66e14b3444b7",
   "metadata": {},
   "source": [
    "### 14. Less than"
   ]
  },
  {
   "cell_type": "code",
   "execution_count": 14,
   "id": "2e0d3823-7e58-4be0-bb91-39d0b7753577",
   "metadata": {},
   "outputs": [
    {
     "name": "stdout",
     "output_type": "stream",
     "text": [
      "8 < 5 = False\n",
      "15 < 20 = True\n",
      "10 < 5 = False\n",
      "25 < 25 = False\n",
      "50 < 40 = False\n",
      "18 < 12 = False\n",
      "7 < 10 = True\n",
      "30 < 30 = False\n",
      "40 < 35 = False\n",
      "20 < 22 = True\n"
     ]
    }
   ],
   "source": [
    "print(\"8 < 5 =\", 8 < 5)\n",
    "print(\"15 < 20 =\", 15 < 20)\n",
    "print(\"10 < 5 =\", 10 < 5)\n",
    "print(\"25 < 25 =\", 25 < 25)\n",
    "print(\"50 < 40 =\", 50 < 40)\n",
    "print(\"18 < 12 =\", 18 < 12)\n",
    "print(\"7 < 10 =\", 7 < 10)\n",
    "print(\"30 < 30 =\", 30 < 30)\n",
    "print(\"40 < 35 =\", 40 < 35)\n",
    "print(\"20 < 22 =\", 20 < 22)\n"
   ]
  },
  {
   "cell_type": "markdown",
   "id": "4c11abcc-ab93-4f9d-a119-a66aa9ffc798",
   "metadata": {},
   "source": [
    "### 15. Not equal to"
   ]
  },
  {
   "cell_type": "code",
   "execution_count": 15,
   "id": "c5c1476c-bad2-4755-a34b-f44a1cbe9a84",
   "metadata": {},
   "outputs": [
    {
     "name": "stdout",
     "output_type": "stream",
     "text": [
      "5 != 3 = True\n",
      "10 != 10 = False\n",
      "15 != 20 = True\n",
      "25 != 25 = False\n",
      "50 != 50 = False\n",
      "18 != 18 = False\n",
      "7 != 7 = False\n",
      "30 != 30 = False\n",
      "40 != 40 = False\n",
      "20 != 22 = True\n"
     ]
    }
   ],
   "source": [
    "print(\"5 != 3 =\", 5 != 3)\n",
    "print(\"10 != 10 =\", 10 != 10)\n",
    "print(\"15 != 20 =\", 15 != 20)\n",
    "print(\"25 != 25 =\", 25 != 25)\n",
    "print(\"50 != 50 =\", 50 != 50)\n",
    "print(\"18 != 18 =\", 18 != 18)\n",
    "print(\"7 != 7 =\", 7 != 7)\n",
    "print(\"30 != 30 =\", 30 != 30)\n",
    "print(\"40 != 40 =\", 40 != 40)\n",
    "print(\"20 != 22 =\", 20 != 22)\n"
   ]
  },
  {
   "cell_type": "markdown",
   "id": "62ca0f14-32a3-46d4-bd07-fc14cc05c1e0",
   "metadata": {},
   "source": [
    "### 16. Equal to"
   ]
  },
  {
   "cell_type": "code",
   "execution_count": 16,
   "id": "9e6e18f1-b385-443c-bef5-f878b7aeb713",
   "metadata": {},
   "outputs": [
    {
     "name": "stdout",
     "output_type": "stream",
     "text": [
      "5 == 3 = False\n",
      "10 == 10 = True\n",
      "15 == 20 = False\n",
      "25 == 25 = True\n",
      "50 == 50 = True\n",
      "18 == 18 = True\n",
      "7 == 7 = True\n",
      "30 == 30 = True\n",
      "40 == 40 = True\n",
      "20 == 22 = False\n"
     ]
    }
   ],
   "source": [
    "print(\"5 == 3 =\", 5 == 3)\n",
    "print(\"10 == 10 =\", 10 == 10)\n",
    "print(\"15 == 20 =\", 15 == 20)\n",
    "print(\"25 == 25 =\", 25 == 25)\n",
    "print(\"50 == 50 =\", 50 == 50)\n",
    "print(\"18 == 18 =\", 18 == 18)\n",
    "print(\"7 == 7 =\", 7 == 7)\n",
    "print(\"30 == 30 =\", 30 == 30)\n",
    "print(\"40 == 40 =\", 40 == 40)\n",
    "print(\"20 == 22 =\", 20 == 22)\n"
   ]
  },
  {
   "cell_type": "markdown",
   "id": "9aedc507-ec06-482a-b53a-6286187d19e4",
   "metadata": {},
   "source": [
    "### 17. Greater than or equal to"
   ]
  },
  {
   "cell_type": "code",
   "execution_count": 17,
   "id": "4c0ee13a-b9b4-4279-bed4-33e6cef6ea9b",
   "metadata": {},
   "outputs": [
    {
     "name": "stdout",
     "output_type": "stream",
     "text": [
      "8 >= 5 = True\n",
      "15 >= 15 = True\n",
      "10 >= 5 = True\n",
      "25 >= 25 = True\n",
      "50 >= 40 = True\n",
      "18 >= 18 = True\n",
      "7 >= 10 = False\n",
      "30 >= 30 = True\n",
      "40 >= 35 = True\n",
      "20 >= 22 = False\n"
     ]
    }
   ],
   "source": [
    "print(\"8 >= 5 =\", 8 >= 5)\n",
    "print(\"15 >= 15 =\", 15 >= 15)\n",
    "print(\"10 >= 5 =\", 10 >= 5)\n",
    "print(\"25 >= 25 =\", 25 >= 25)\n",
    "print(\"50 >= 40 =\", 50 >= 40)\n",
    "print(\"18 >= 18 =\", 18 >= 18)\n",
    "print(\"7 >= 10 =\", 7 >= 10)\n",
    "print(\"30 >= 30 =\", 30 >= 30)\n",
    "print(\"40 >= 35 =\", 40 >= 35)\n",
    "print(\"20 >= 22 =\", 20 >= 22)\n"
   ]
  },
  {
   "cell_type": "markdown",
   "id": "417b7866-d127-476b-a391-c4f1ca66bc54",
   "metadata": {},
   "source": [
    "### 18. Less than or equal to"
   ]
  },
  {
   "cell_type": "code",
   "execution_count": 18,
   "id": "d69b7ad7-5d12-4fe5-9728-65a27adada33",
   "metadata": {},
   "outputs": [
    {
     "name": "stdout",
     "output_type": "stream",
     "text": [
      "8 <= 5 = False\n",
      "15 <= 20 = True\n",
      "10 <= 15 = True\n",
      "25 <= 25 = True\n",
      "50 <= 40 = False\n",
      "18 <= 18 = True\n",
      "7 <= 10 = True\n",
      "30 <= 30 = True\n",
      "40 <= 35 = False\n",
      "20 <= 22 = True\n"
     ]
    }
   ],
   "source": [
    "print(\"8 <= 5 =\", 8 <= 5)\n",
    "print(\"15 <= 20 =\", 15 <= 20)\n",
    "print(\"10 <= 15 =\", 10 <= 15)\n",
    "print(\"25 <= 25 =\", 25 <= 25)\n",
    "print(\"50 <= 40 =\", 50 <= 40)\n",
    "print(\"18 <= 18 =\", 18 <= 18)\n",
    "print(\"7 <= 10 =\", 7 <= 10)\n",
    "print(\"30 <= 30 =\", 30 <= 30)\n",
    "print(\"40 <= 35 =\", 40 <= 35)\n",
    "print(\"20 <= 22 =\", 20 <= 22)\n"
   ]
  },
  {
   "cell_type": "markdown",
   "id": "452ce062-ac11-49e9-949c-1e675e2e9323",
   "metadata": {},
   "source": []
  }
 ],
 "metadata": {
  "kernelspec": {
   "display_name": "Python 3 (ipykernel)",
   "language": "python",
   "name": "python3"
  },
  "language_info": {
   "codemirror_mode": {
    "name": "ipython",
    "version": 3
   },
   "file_extension": ".py",
   "mimetype": "text/x-python",
   "name": "python",
   "nbconvert_exporter": "python",
   "pygments_lexer": "ipython3",
   "version": "3.11.5"
  }
 },
 "nbformat": 4,
 "nbformat_minor": 5
}
